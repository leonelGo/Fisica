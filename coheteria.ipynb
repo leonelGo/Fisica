{
  "cells": [
    {
      "cell_type": "markdown",
      "metadata": {
        "id": "view-in-github",
        "colab_type": "text"
      },
      "source": [
        "<a href=\"https://colab.research.google.com/github/leonelGo/Fisica/blob/master/coheteria.ipynb\" target=\"_parent\"><img src=\"https://colab.research.google.com/assets/colab-badge.svg\" alt=\"Open In Colab\"/></a>"
      ]
    },
    {
      "cell_type": "code",
      "execution_count": null,
      "metadata": {
        "id": "KXLkk_9sj1FC"
      },
      "outputs": [],
      "source": [
        "import numpy as np\n",
        "import scipy.constants as C"
      ]
    },
    {
      "cell_type": "code",
      "execution_count": null,
      "metadata": {
        "id": "ApEkF-6Rj1FF"
      },
      "outputs": [],
      "source": [
        "P0=1000 #psi\n",
        "Pe=14.7 #psi=presion atmosferica\n",
        "k=1.25\n"
      ]
    },
    {
      "cell_type": "code",
      "execution_count": null,
      "metadata": {
        "id": "zMjx3_PGj1FF"
      },
      "outputs": [],
      "source": [
        "#march\n",
        "def match(Pe,P0,k):\n",
        "    c=(k-1)/k\n",
        "    return np.sqrt(2/(k-1)*(1-(Pe/P0)**c))\n",
        "\n",
        "def RatArea(M1,M2,k):\n",
        "    a=(k+1)/(2*(k-1))\n",
        "    b=(k-1)/2\n",
        "    return M2/M1*(((1+b*M1**2)/(1+b*M2**2))**a)\n",
        "\n",
        "def Cf(Pe,P0,k):\n",
        "    a=(k+1)/(k-1)\n",
        "    return np.sqrt((2*k**2/(k-1)*(2/(k+1))**a)*(1-(Pe/P0)**((k-1)/k)))\n",
        "\n",
        "def thrust(Cf,At,P0):\n",
        "    return At*P0*Cf*6894.757*10**(-6)\n",
        "\n",
        "def diametro(A):\n",
        "    return np.sqrt(4*A/C.pi)"
      ]
    },
    {
      "cell_type": "code",
      "execution_count": null,
      "metadata": {
        "id": "lz4IHKkbj1FG"
      },
      "outputs": [],
      "source": [
        "Mc=0.3\n",
        "Mt=1\n",
        "Me=match(Pe,P0,k)\n",
        "Dc=93.6 #mm\n",
        "Ac=C.pi*(Dc/2)**2 #mm**2\n",
        "Dc=diametro(Ac) ## mm"
      ]
    },
    {
      "cell_type": "code",
      "execution_count": null,
      "metadata": {
        "id": "R4TNAr25j1FG"
      },
      "outputs": [],
      "source": [
        "AtAc=RatArea(Mt,Mc,k)\n",
        "At=Ac*AtAc\n",
        "AeAt=RatArea(Me,Mt,k)\n",
        "Ae=At*AeAt\n",
        "AeAc=RatArea(Me,Mc,k)\n",
        "Ae2=Ac*AeAc\n",
        "De2=diametro(Ae2)\n",
        "De=diametro(Ae)\n",
        "Dt=diametro(At)\n",
        "Cf=Cf(Pe,P0,k)\n",
        "F=thrust(Cf,At,P0)"
      ]
    },
    {
      "cell_type": "markdown",
      "metadata": {
        "id": "odzY19muj1FG"
      },
      "source": []
    },
    {
      "cell_type": "code",
      "execution_count": null,
      "metadata": {
        "colab": {
          "base_uri": "https://localhost:8080/"
        },
        "id": "UTMqKBV5j1FH",
        "outputId": "5a70a521-6dca-4e63-a5f1-a49a7b9c2e30"
      },
      "outputs": [
        {
          "output_type": "stream",
          "name": "stdout",
          "text": [
            "47.196513556556866 47.19651355655685 32.581265812480964 46.8 0.3 2.1354249024903025 1 1.571114963743217 36125.40363216293\n"
          ]
        }
      ],
      "source": [
        "print(De2/2,De/2,Dt/2,Dc/2,Mc,Me,Mt,Cf,F) # Dt,Dc=mm match,Cf=sin dimendiones, F=N"
      ]
    },
    {
      "cell_type": "code",
      "execution_count": null,
      "metadata": {
        "colab": {
          "base_uri": "https://localhost:8080/"
        },
        "id": "kq6Axr3-j1FH",
        "outputId": "6d7941ba-64c0-461a-e79a-d72eee350925"
      },
      "outputs": [
        {
          "output_type": "stream",
          "name": "stdout",
          "text": [
            "1.0170168072422459 6880.841893598507 2.098378994668541 3334.922753013751 6997.931853766238\n"
          ]
        }
      ],
      "source": [
        "print(AeAc,Ac,AeAt,At, Ae) # En mm2"
      ]
    },
    {
      "cell_type": "code",
      "execution_count": null,
      "metadata": {
        "id": "jicqiCLKj1FI"
      },
      "outputs": [],
      "source": [
        "print"
      ]
    }
  ],
  "metadata": {
    "kernelspec": {
      "display_name": "Python 3",
      "language": "python",
      "name": "python3"
    },
    "language_info": {
      "codemirror_mode": {
        "name": "ipython",
        "version": 3
      },
      "file_extension": ".py",
      "mimetype": "text/x-python",
      "name": "python",
      "nbconvert_exporter": "python",
      "pygments_lexer": "ipython3",
      "version": "3.10.6"
    },
    "orig_nbformat": 4,
    "colab": {
      "provenance": [],
      "include_colab_link": true
    }
  },
  "nbformat": 4,
  "nbformat_minor": 0
}