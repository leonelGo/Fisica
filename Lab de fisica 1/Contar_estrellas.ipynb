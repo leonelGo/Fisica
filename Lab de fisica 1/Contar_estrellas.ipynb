{
 "cells": [
  {
   "cell_type": "code",
   "execution_count": 1,
   "metadata": {},
   "outputs": [],
   "source": [
    "import numpy as np"
   ]
  },
  {
   "cell_type": "code",
   "execution_count": 3,
   "metadata": {},
   "outputs": [
    {
     "name": "stdout",
     "output_type": "stream",
     "text": [
      "Error: Unable to load image.\n"
     ]
    }
   ],
   "source": [
    "import cv2\n",
    "\n",
    "# Cargar una imagen\n",
    "img = cv2.imread('Lab de fisica 1\\ngc6397.png')\n",
    "\n",
    "# Verificar si la imagen se cargó correctamente\n",
    "if img is None:\n",
    "    print(\"Error: Unable to load image.\")\n",
    "else:\n",
    "    # Convertir la imagen a escala de grises\n",
    "    gray = cv2.cvtColor(img, cv2.COLOR_BGR2GRAY)\n",
    "\n",
    "    # Mostrar la imagen original y la imagen en escala de grises\n",
    "    cv2.imshow('Original Image', img)\n",
    "    cv2.imshow('Gray Image', gray)\n",
    "\n",
    "    # Esperar hasta que se presione una tecla y cerrar las ventanas\n",
    "    cv2.waitKey(0)\n",
    "    cv2.destroyAllWindows()\n"
   ]
  }
 ],
 "metadata": {
  "kernelspec": {
   "display_name": "Python 3",
   "language": "python",
   "name": "python3"
  },
  "language_info": {
   "codemirror_mode": {
    "name": "ipython",
    "version": 3
   },
   "file_extension": ".py",
   "mimetype": "text/x-python",
   "name": "python",
   "nbconvert_exporter": "python",
   "pygments_lexer": "ipython3",
   "version": "3.11.4"
  }
 },
 "nbformat": 4,
 "nbformat_minor": 2
}
